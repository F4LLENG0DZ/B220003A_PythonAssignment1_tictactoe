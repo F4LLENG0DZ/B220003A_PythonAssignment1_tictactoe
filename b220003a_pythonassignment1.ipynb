{
 "cells": [
  {
   "cell_type": "code",
   "execution_count": 1,
   "id": "61940ebe-86ee-40a0-baa4-0fe072506238",
   "metadata": {},
   "outputs": [
    {
     "name": "stdout",
     "output_type": "stream",
     "text": [
      "- | - | -\n",
      "----------\n",
      "- | - | -\n",
      "----------\n",
      "- | - | -\n"
     ]
    },
    {
     "name": "stdin",
     "output_type": "stream",
     "text": [
      "Pick a number (Enter a number via numpad or number row on your keyboard):  1\n"
     ]
    },
    {
     "name": "stdout",
     "output_type": "stream",
     "text": [
      "X | - | -\n",
      "----------\n",
      "- | - | -\n",
      "----------\n",
      "- | - | -\n"
     ]
    },
    {
     "name": "stdin",
     "output_type": "stream",
     "text": [
      "Pick a number (Enter a number via numpad or number row on your keyboard):  2\n"
     ]
    },
    {
     "name": "stdout",
     "output_type": "stream",
     "text": [
      "X | O | -\n",
      "----------\n",
      "- | - | -\n",
      "----------\n",
      "- | - | -\n"
     ]
    },
    {
     "name": "stdin",
     "output_type": "stream",
     "text": [
      "Pick a number (Enter a number via numpad or number row on your keyboard):  1\n"
     ]
    },
    {
     "name": "stdout",
     "output_type": "stream",
     "text": [
      "Oops, spot taken! Try another spot!\n",
      "X | O | -\n",
      "----------\n",
      "- | - | -\n",
      "----------\n",
      "- | - | -\n"
     ]
    },
    {
     "name": "stdin",
     "output_type": "stream",
     "text": [
      "Pick a number (Enter a number via numpad or number row on your keyboard):  3\n"
     ]
    },
    {
     "name": "stdout",
     "output_type": "stream",
     "text": [
      "X | O | O\n",
      "----------\n",
      "- | - | -\n",
      "----------\n",
      "- | - | -\n"
     ]
    },
    {
     "name": "stdin",
     "output_type": "stream",
     "text": [
      "Pick a number (Enter a number via numpad or number row on your keyboard):  4\n"
     ]
    },
    {
     "name": "stdout",
     "output_type": "stream",
     "text": [
      "X | O | O\n",
      "----------\n",
      "X | - | -\n",
      "----------\n",
      "- | - | -\n"
     ]
    },
    {
     "name": "stdin",
     "output_type": "stream",
     "text": [
      "Pick a number (Enter a number via numpad or number row on your keyboard):  5\n"
     ]
    },
    {
     "name": "stdout",
     "output_type": "stream",
     "text": [
      "X | O | O\n",
      "----------\n",
      "X | O | -\n",
      "----------\n",
      "- | - | -\n"
     ]
    },
    {
     "name": "stdin",
     "output_type": "stream",
     "text": [
      "Pick a number (Enter a number via numpad or number row on your keyboard):  4\n"
     ]
    },
    {
     "name": "stdout",
     "output_type": "stream",
     "text": [
      "Oops, spot taken! Try another spot!\n",
      "X | O | O\n",
      "----------\n",
      "X | O | -\n",
      "----------\n",
      "- | - | -\n"
     ]
    },
    {
     "name": "stdin",
     "output_type": "stream",
     "text": [
      "Pick a number (Enter a number via numpad or number row on your keyboard):  6\n"
     ]
    },
    {
     "name": "stdout",
     "output_type": "stream",
     "text": [
      "X | O | O\n",
      "----------\n",
      "X | O | O\n",
      "----------\n",
      "- | - | -\n"
     ]
    },
    {
     "name": "stdin",
     "output_type": "stream",
     "text": [
      "Pick a number (Enter a number via numpad or number row on your keyboard):  7\n"
     ]
    },
    {
     "name": "stdout",
     "output_type": "stream",
     "text": [
      "X | O | O\n",
      "----------\n",
      "X | O | O\n",
      "----------\n",
      "X | - | -\n",
      "The winner is X!\n"
     ]
    }
   ],
   "source": [
    "board = [\"-\", \"-\", \"-\", \n",
    "       \"-\", \"-\", \"-\", \n",
    "       \"-\", \"-\", \"-\"]\n",
    "currentPlayer = \"X\"\n",
    "Winner = None\n",
    "gameRunning = True\n",
    "\n",
    "def print_board(board):\n",
    "    print(board[0] + \" | \" + board[1] + \" | \" + board[2])\n",
    "    print(\"----------\")\n",
    "    print(board[3] + \" | \" + board[4] + \" | \" + board[5])\n",
    "    print(\"----------\")\n",
    "    print(board[6] + \" | \" + board[7] + \" | \" + board[8])\n",
    "\n",
    "def player_input(board):\n",
    "    inp = int(input(\"Pick a number (Enter a number via numpad or number row on your keyboard): \"))\n",
    "    if inp>=1 and inp<=9 and board[inp-1] == \"-\":\n",
    "        board[inp-1] = currentPlayer\n",
    "    else:\n",
    "        print(\"Oops, spot taken! Try another spot!\")\n",
    "\n",
    "def check_horizontal(board):\n",
    "    global winner\n",
    "    if board[0] == board[1] == board[2] and board[0] != \"-\":\n",
    "        winner = board[0]\n",
    "        return True\n",
    "    elif board[3] == board[4] == board[5] and board[3] != \"-\":\n",
    "        winner = board[3]\n",
    "        return True\n",
    "    elif board[6] == board[7] == board[8] and board[6] != \"-\":\n",
    "        winner = board[6]\n",
    "        return True\n",
    "\n",
    "def check_row(board):\n",
    "    global winner\n",
    "    if board[0] == board[3] == board[6] and board[0] != \"-\":\n",
    "        winner = board[0]\n",
    "        return True\n",
    "    elif board[1] == board[4] == board[7] and board[1] != \"-\":\n",
    "        winner = board[1]\n",
    "        return True\n",
    "    elif board[2] == board[5] == board[8] and board[2] != \"-\":\n",
    "        winner = board[3]\n",
    "        return True\n",
    "\n",
    "\n",
    "def check_diag(board):\n",
    "    global winner\n",
    "    if board[0] == board[4] == board[8] and board[0] != \"-\":\n",
    "        winner = board[0]\n",
    "        return True\n",
    "    elif board[2] == board[4] == board[6] and board[4] != \"-\":\n",
    "        winner = board[2]\n",
    "        return True\n",
    "\n",
    "\n",
    "def check_if_win(board):\n",
    "    global gameRunning\n",
    "    if check_horizontal(board):\n",
    "        print_board(board)\n",
    "        print(f\"The winner is {winner}!\")\n",
    "        gameRunning = False\n",
    "\n",
    "    elif check_row(board):\n",
    "        print_board(board)\n",
    "        print(f\"The winner is {winner}!\")\n",
    "        gameRunning = False\n",
    "\n",
    "    elif check_diag(board):\n",
    "        print_board(board)\n",
    "        print(f\"The winner is {winner}!\")\n",
    "        gameRunning = False\n",
    "\n",
    "\n",
    "def check_if_tie(board):\n",
    "    global gameRunning\n",
    "    if \"-\" not in board:\n",
    "        print_board(board)\n",
    "        print(\"It is a tie!\")\n",
    "        gameRunning = False\n",
    "\n",
    "def switch_player():\n",
    "    global currentPlayer\n",
    "    if currentPlayer == \"X\":\n",
    "        currentPlayer = \"O\"\n",
    "    else:\n",
    "        currentPlayer = \"X\"\n",
    "\n",
    "while gameRunning:\n",
    "    print_board(board)\n",
    "    player_input(board)\n",
    "    check_if_win(board)\n",
    "    check_if_tie(board)\n",
    "    switch_player()\n",
    "\n",
    "    if gameRunning == False:\n",
    "        break"
   ]
  },
  {
   "cell_type": "code",
   "execution_count": null,
   "id": "823f5fd0-3485-4744-a07e-99be04ceffaa",
   "metadata": {},
   "outputs": [],
   "source": []
  }
 ],
 "metadata": {
  "kernelspec": {
   "display_name": "Python 3 (ipykernel)",
   "language": "python",
   "name": "python3"
  },
  "language_info": {
   "codemirror_mode": {
    "name": "ipython",
    "version": 3
   },
   "file_extension": ".py",
   "mimetype": "text/x-python",
   "name": "python",
   "nbconvert_exporter": "python",
   "pygments_lexer": "ipython3",
   "version": "3.11.7"
  }
 },
 "nbformat": 4,
 "nbformat_minor": 5
}
